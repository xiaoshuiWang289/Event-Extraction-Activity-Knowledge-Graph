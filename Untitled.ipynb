{
 "cells": [
  {
   "cell_type": "code",
   "execution_count": 1,
   "metadata": {},
   "outputs": [
    {
     "name": "stdout",
     "output_type": "stream",
     "text": [
      "Looking in indexes: https://mirrors.aliyun.com/pypi/simple/\n",
      "Collecting transformers==2.10.0\n",
      "  Downloading https://mirrors.aliyun.com/pypi/packages/12/b5/ac41e3e95205ebf53439e4dd087c58e9fd371fd8e3724f2b9b4cdb8282e5/transformers-2.10.0-py3-none-any.whl (660 kB)\n",
      "\u001b[K     |████████████████████████████████| 660 kB 8.0 MB/s eta 0:00:01\n",
      "\u001b[?25hCollecting pytorch_crf==0.7.2\n",
      "  Downloading https://mirrors.aliyun.com/pypi/packages/96/7d/4c4688e26ea015fc118a0327e5726e6596836abce9182d3738be8ec2e32a/pytorch_crf-0.7.2-py3-none-any.whl (9.5 kB)\n",
      "Collecting numpy==1.16.4\n",
      "  Downloading https://mirrors.aliyun.com/pypi/packages/d3/4b/f9f4b96c0b1ba43d28a5bdc4b64f0b9d3fbcf31313a51bc766942866a7c7/numpy-1.16.4.zip (5.1 MB)\n",
      "\u001b[K     |████████████████████████████████| 5.1 MB 39.7 MB/s eta 0:00:01\n",
      "\u001b[31mERROR: Could not find a version that satisfies the requirement torch==1.5.1+cu101 (from -r requirements.txt (line 4)) (from versions: 1.4.0, 1.5.0, 1.5.1, 1.6.0, 1.7.0, 1.7.1, 1.8.0, 1.8.1, 1.9.0, 1.9.1, 1.10.0, 1.10.1, 1.10.2)\u001b[0m\n",
      "\u001b[31mERROR: No matching distribution found for torch==1.5.1+cu101 (from -r requirements.txt (line 4))\u001b[0m\n",
      "\u001b[?25hNote: you may need to restart the kernel to use updated packages.\n"
     ]
    }
   ],
   "source": [
    "pip install -r requirements.txt"
   ]
  },
  {
   "cell_type": "code",
   "execution_count": 2,
   "metadata": {},
   "outputs": [
    {
     "name": "stdout",
     "output_type": "stream",
     "text": [
      "Looking in indexes: https://mirrors.aliyun.com/pypi/simple/\n",
      "Collecting tqdm==4.46.1\n",
      "  Downloading https://mirrors.aliyun.com/pypi/packages/f3/76/4697ce203a3d42b2ead61127b35e5fcc26bba9a35c03b32a2bd342a4c869/tqdm-4.46.1-py2.py3-none-any.whl (63 kB)\n",
      "\u001b[K     |████████████████████████████████| 63 kB 3.1 MB/s  eta 0:00:01\n",
      "\u001b[?25hInstalling collected packages: tqdm\n",
      "Successfully installed tqdm-4.46.1\n",
      "Note: you may need to restart the kernel to use updated packages.\n"
     ]
    }
   ],
   "source": [
    "pip install tqdm==4.46.1"
   ]
  },
  {
   "cell_type": "code",
   "execution_count": 3,
   "metadata": {},
   "outputs": [
    {
     "name": "stdout",
     "output_type": "stream",
     "text": [
      "Looking in indexes: https://mirrors.aliyun.com/pypi/simple/\n",
      "Collecting scikit_learn==0.23.2\n",
      "  Downloading https://mirrors.aliyun.com/pypi/packages/7f/c1/e19f767594035028b6ab88010742300ce5fcbdfeff051fc9afffcbebf644/scikit_learn-0.23.2-cp38-cp38-manylinux1_x86_64.whl (6.8 MB)\n",
      "\u001b[K     |████████████████████████████████| 6.8 MB 22.6 MB/s eta 0:00:01\n",
      "\u001b[?25hRequirement already satisfied: numpy>=1.13.3 in /root/miniconda3/envs/myconda/lib/python3.8/site-packages (from scikit_learn==0.23.2) (1.18.4)\n",
      "Collecting joblib>=0.11\n",
      "  Downloading https://mirrors.aliyun.com/pypi/packages/3e/d5/0163eb0cfa0b673aa4fe1cd3ea9d8a81ea0f32e50807b0c295871e4aab2e/joblib-1.1.0-py2.py3-none-any.whl (306 kB)\n",
      "\u001b[K     |████████████████████████████████| 306 kB 48.6 MB/s eta 0:00:01\n",
      "\u001b[?25hRequirement already satisfied: scipy>=0.19.1 in /root/miniconda3/envs/myconda/lib/python3.8/site-packages (from scikit_learn==0.23.2) (1.4.1)\n",
      "Collecting threadpoolctl>=2.0.0\n",
      "  Downloading https://mirrors.aliyun.com/pypi/packages/61/cf/6e354304bcb9c6413c4e02a747b600061c21d38ba51e7e544ac7bc66aecc/threadpoolctl-3.1.0-py3-none-any.whl (14 kB)\n",
      "Installing collected packages: joblib, threadpoolctl, scikit-learn\n",
      "Successfully installed joblib-1.1.0 scikit-learn-0.23.2 threadpoolctl-3.1.0\n",
      "Note: you may need to restart the kernel to use updated packages.\n"
     ]
    }
   ],
   "source": [
    "pip install scikit_learn==0.23.2"
   ]
  },
  {
   "cell_type": "code",
   "execution_count": 1,
   "metadata": {},
   "outputs": [
    {
     "name": "stdout",
     "output_type": "stream",
     "text": [
      "Looking in indexes: https://mirrors.aliyun.com/pypi/simple/\n",
      "Collecting transformers==2.10.0\n",
      "  Using cached https://mirrors.aliyun.com/pypi/packages/12/b5/ac41e3e95205ebf53439e4dd087c58e9fd371fd8e3724f2b9b4cdb8282e5/transformers-2.10.0-py3-none-any.whl (660 kB)\n",
      "Collecting regex!=2019.12.17\n",
      "  Downloading https://mirrors.aliyun.com/pypi/packages/54/a1/a4bca6c01eebbd641a39b861bcc18e0aeedbd205c21d809909c37f387beb/regex-2022.3.2-cp38-cp38-manylinux_2_17_x86_64.manylinux2014_x86_64.whl (764 kB)\n",
      "\u001b[K     |████████████████████████████████| 764 kB 42.8 MB/s eta 0:00:01\n",
      "\u001b[?25hCollecting requests\n",
      "  Downloading https://mirrors.aliyun.com/pypi/packages/2d/61/08076519c80041bc0ffa1a8af0cbd3bf3e2b62af10435d269a9d0f40564d/requests-2.27.1-py2.py3-none-any.whl (63 kB)\n",
      "\u001b[K     |████████████████████████████████| 63 kB 1.3 MB/s  eta 0:00:01\n",
      "\u001b[?25hRequirement already satisfied: tqdm>=4.27 in /root/miniconda3/envs/myconda/lib/python3.8/site-packages (from transformers==2.10.0) (4.46.1)\n",
      "Requirement already satisfied: numpy in /root/miniconda3/envs/myconda/lib/python3.8/site-packages (from transformers==2.10.0) (1.18.4)\n",
      "Collecting tokenizers==0.7.0\n",
      "  Downloading https://mirrors.aliyun.com/pypi/packages/04/44/1da09bb16357fb7502b20631170e7b278df4d8567931bd104180dd62d2d8/tokenizers-0.7.0-cp38-cp38-manylinux1_x86_64.whl (7.5 MB)\n",
      "\u001b[K     |████████████████████████████████| 7.5 MB 31.4 MB/s eta 0:00:01\n",
      "\u001b[?25hCollecting sentencepiece\n",
      "  Downloading https://mirrors.aliyun.com/pypi/packages/68/91/ded0f64f90abfc5413c620fc345a0aef1e7ff5addda8704cc6b3bf589c64/sentencepiece-0.1.96-cp38-cp38-manylinux_2_17_x86_64.manylinux2014_x86_64.whl (1.2 MB)\n",
      "\u001b[K     |████████████████████████████████| 1.2 MB 41.3 MB/s eta 0:00:01\n",
      "\u001b[?25hCollecting filelock\n",
      "  Downloading https://mirrors.aliyun.com/pypi/packages/cd/f1/ba7dee3de0e9d3b8634d6fbaa5d0d407a7da64620305d147298b683e5c36/filelock-3.6.0-py3-none-any.whl (10.0 kB)\n",
      "Collecting sacremoses\n",
      "  Downloading https://mirrors.aliyun.com/pypi/packages/ec/e5/407e634cbd3b96a9ce6960874c5b66829592ead9ac762bd50662244ce20b/sacremoses-0.0.47-py2.py3-none-any.whl (895 kB)\n",
      "\u001b[K     |████████████████████████████████| 895 kB 40.5 MB/s eta 0:00:01\n",
      "\u001b[?25hCollecting idna<4,>=2.5; python_version >= \"3\"\n",
      "  Downloading https://mirrors.aliyun.com/pypi/packages/04/a2/d918dcd22354d8958fe113e1a3630137e0fc8b44859ade3063982eacd2a4/idna-3.3-py3-none-any.whl (61 kB)\n",
      "\u001b[K     |████████████████████████████████| 61 kB 841 kB/s  eta 0:00:01\n",
      "\u001b[?25hCollecting urllib3<1.27,>=1.21.1\n",
      "  Downloading https://mirrors.aliyun.com/pypi/packages/4e/b8/f5a25b22e803f0578e668daa33ba3701bb37858ec80e08a150bd7d2cf1b1/urllib3-1.26.8-py2.py3-none-any.whl (138 kB)\n",
      "\u001b[K     |████████████████████████████████| 138 kB 25.6 MB/s eta 0:00:01\n",
      "\u001b[?25hCollecting charset-normalizer~=2.0.0; python_version >= \"3\"\n",
      "  Downloading https://mirrors.aliyun.com/pypi/packages/06/b3/24afc8868eba069a7f03650ac750a778862dc34941a4bebeb58706715726/charset_normalizer-2.0.12-py3-none-any.whl (39 kB)\n",
      "Requirement already satisfied: certifi>=2017.4.17 in /root/miniconda3/envs/myconda/lib/python3.8/site-packages (from requests->transformers==2.10.0) (2020.4.5.1)\n",
      "Collecting click\n",
      "  Downloading https://mirrors.aliyun.com/pypi/packages/4a/a8/0b2ced25639fb20cc1c9784de90a8c25f9504a7f18cd8b5397bd61696d7d/click-8.0.4-py3-none-any.whl (97 kB)\n",
      "\u001b[K     |████████████████████████████████| 97 kB 5.4 MB/s  eta 0:00:01\n",
      "\u001b[?25hRequirement already satisfied: joblib in /root/miniconda3/envs/myconda/lib/python3.8/site-packages (from sacremoses->transformers==2.10.0) (1.1.0)\n",
      "Requirement already satisfied: six in /root/miniconda3/envs/myconda/lib/python3.8/site-packages (from sacremoses->transformers==2.10.0) (1.14.0)\n",
      "Installing collected packages: regex, idna, urllib3, charset-normalizer, requests, tokenizers, sentencepiece, filelock, click, sacremoses, transformers\n",
      "Successfully installed charset-normalizer-2.0.12 click-8.0.4 filelock-3.6.0 idna-3.3 regex-2022.3.2 requests-2.27.1 sacremoses-0.0.47 sentencepiece-0.1.96 tokenizers-0.7.0 transformers-2.10.0 urllib3-1.26.8\n",
      "Note: you may need to restart the kernel to use updated packages.\n"
     ]
    }
   ],
   "source": [
    "pip install transformers==2.10.0"
   ]
  },
  {
   "cell_type": "code",
   "execution_count": 1,
   "metadata": {},
   "outputs": [
    {
     "name": "stdout",
     "output_type": "stream",
     "text": [
      "Looking in indexes: https://mirrors.aliyun.com/pypi/simple/\n",
      "Collecting torchcrf==1.1.0\n",
      "  Downloading https://mirrors.aliyun.com/pypi/packages/0e/95/3490a6c67d543aca9af21a7a13197750e18e975a215fa4b6f5411902908d/TorchCRF-1.1.0-py3-none-any.whl (5.2 kB)\n",
      "Requirement already satisfied: numpy in /root/miniconda3/envs/myconda/lib/python3.8/site-packages (from torchcrf==1.1.0) (1.18.4)\n",
      "Requirement already satisfied: torch>=1.0.0 in /root/miniconda3/envs/myconda/lib/python3.8/site-packages (from torchcrf==1.1.0) (1.5.0)\n",
      "Requirement already satisfied: future in /root/miniconda3/envs/myconda/lib/python3.8/site-packages (from torch>=1.0.0->torchcrf==1.1.0) (0.18.2)\n",
      "Installing collected packages: torchcrf\n",
      "Successfully installed torchcrf-1.1.0\n",
      "Note: you may need to restart the kernel to use updated packages.\n"
     ]
    }
   ],
   "source": [
    "pip install torchcrf==1.1.0"
   ]
  },
  {
   "cell_type": "code",
   "execution_count": 2,
   "metadata": {},
   "outputs": [
    {
     "name": "stdout",
     "output_type": "stream",
     "text": [
      "Looking in indexes: https://mirrors.aliyun.com/pypi/simple/\n",
      "Collecting numpy==1.16.4\n",
      "  Using cached https://mirrors.aliyun.com/pypi/packages/d3/4b/f9f4b96c0b1ba43d28a5bdc4b64f0b9d3fbcf31313a51bc766942866a7c7/numpy-1.16.4.zip (5.1 MB)\n",
      "Building wheels for collected packages: numpy\n",
      "  Building wheel for numpy (setup.py) ... \u001b[?25ldone\n",
      "\u001b[?25h  Created wheel for numpy: filename=numpy-1.16.4-cp38-cp38-linux_x86_64.whl size=12653004 sha256=93414492d59e940c1167875f768698466179bb7709793ee5dec4c50d12be314f\n",
      "  Stored in directory: /root/.cache/pip/wheels/f9/7f/9f/83cf6c332a1e77baad590c4006877875e68a2670e8af9c72f1\n",
      "Successfully built numpy\n",
      "\u001b[31mERROR: opencv-python 4.2.0.34 has requirement numpy>=1.17.3, but you'll have numpy 1.16.4 which is incompatible.\u001b[0m\n",
      "Installing collected packages: numpy\n",
      "  Attempting uninstall: numpy\n",
      "    Found existing installation: numpy 1.18.4\n",
      "    Uninstalling numpy-1.18.4:\n",
      "      Successfully uninstalled numpy-1.18.4\n",
      "Successfully installed numpy-1.16.4\n",
      "Note: you may need to restart the kernel to use updated packages.\n"
     ]
    }
   ],
   "source": [
    "pip install numpy==1.16.4"
   ]
  },
  {
   "cell_type": "code",
   "execution_count": 1,
   "metadata": {},
   "outputs": [
    {
     "name": "stdout",
     "output_type": "stream",
     "text": [
      "Looking in indexes: https://mirrors.aliyun.com/pypi/simple/\n",
      "Collecting transformers==2.10.0\n",
      "  Downloading https://mirrors.aliyun.com/pypi/packages/12/b5/ac41e3e95205ebf53439e4dd087c58e9fd371fd8e3724f2b9b4cdb8282e5/transformers-2.10.0-py3-none-any.whl (660 kB)\n",
      "\u001b[K     |████████████████████████████████| 660 kB 6.0 MB/s eta 0:00:01\n",
      "\u001b[?25hCollecting pytorch_crf==0.7.2\n",
      "  Downloading https://mirrors.aliyun.com/pypi/packages/96/7d/4c4688e26ea015fc118a0327e5726e6596836abce9182d3738be8ec2e32a/pytorch_crf-0.7.2-py3-none-any.whl (9.5 kB)\n",
      "Collecting numpy==1.16.4\n",
      "  Downloading https://mirrors.aliyun.com/pypi/packages/fc/d1/45be1144b03b6b1e24f9a924f23f66b4ad030d834ad31fb9e5581bd328af/numpy-1.16.4-cp37-cp37m-manylinux1_x86_64.whl (17.3 MB)\n",
      "\u001b[K     |████████████████████████████████| 17.3 MB 917 kB/s  eta 0:00:01     |███████████████████▌            | 10.6 MB 39.6 MB/s eta 0:00:01\n",
      "\u001b[31mERROR: Could not find a version that satisfies the requirement torch==1.5.1+cu101 (from -r requirements.txt (line 4)) (from versions: 1.0.0, 1.0.1, 1.0.1.post2, 1.1.0, 1.2.0, 1.3.0, 1.3.1, 1.4.0, 1.5.0, 1.5.1, 1.6.0, 1.7.0, 1.7.1, 1.8.0, 1.8.1, 1.9.0, 1.9.1, 1.10.0, 1.10.1, 1.10.2)\u001b[0m\n",
      "\u001b[31mERROR: No matching distribution found for torch==1.5.1+cu101 (from -r requirements.txt (line 4))\u001b[0m\n",
      "\u001b[?25hNote: you may need to restart the kernel to use updated packages.\n"
     ]
    }
   ],
   "source": [
    "pip install -r requirements.txt"
   ]
  },
  {
   "cell_type": "code",
   "execution_count": 2,
   "metadata": {},
   "outputs": [
    {
     "name": "stdout",
     "output_type": "stream",
     "text": [
      "Looking in indexes: https://mirrors.aliyun.com/pypi/simple/\n",
      "Collecting transformers==2.10.0\n",
      "  Using cached https://mirrors.aliyun.com/pypi/packages/12/b5/ac41e3e95205ebf53439e4dd087c58e9fd371fd8e3724f2b9b4cdb8282e5/transformers-2.10.0-py3-none-any.whl (660 kB)\n",
      "Requirement already satisfied: requests in /root/miniconda3/envs/myconda/lib/python3.7/site-packages (from transformers==2.10.0) (2.24.0)\n",
      "Requirement already satisfied: numpy in /root/miniconda3/envs/myconda/lib/python3.7/site-packages (from transformers==2.10.0) (1.19.2)\n",
      "Collecting tokenizers==0.7.0\n",
      "  Downloading https://mirrors.aliyun.com/pypi/packages/ea/59/bb06dd5ca53547d523422d32735585493e0103c992a52a97ba3aa3be33bf/tokenizers-0.7.0-cp37-cp37m-manylinux1_x86_64.whl (5.6 MB)\n",
      "\u001b[K     |████████████████████████████████| 5.6 MB 1.7 MB/s eta 0:00:01\n",
      "\u001b[?25hRequirement already satisfied: tqdm>=4.27 in /root/miniconda3/envs/myconda/lib/python3.7/site-packages (from transformers==2.10.0) (4.49.0)\n",
      "Collecting sacremoses\n",
      "  Downloading https://mirrors.aliyun.com/pypi/packages/ec/e5/407e634cbd3b96a9ce6960874c5b66829592ead9ac762bd50662244ce20b/sacremoses-0.0.47-py2.py3-none-any.whl (895 kB)\n",
      "\u001b[K     |████████████████████████████████| 895 kB 37.7 MB/s eta 0:00:01\n",
      "\u001b[?25hCollecting filelock\n",
      "  Downloading https://mirrors.aliyun.com/pypi/packages/cd/f1/ba7dee3de0e9d3b8634d6fbaa5d0d407a7da64620305d147298b683e5c36/filelock-3.6.0-py3-none-any.whl (10.0 kB)\n",
      "Collecting regex!=2019.12.17\n",
      "  Downloading https://mirrors.aliyun.com/pypi/packages/79/20/091e8bc3e08b82448b2b4bb29d78bf789397a9a6a569a01619f6fbcd2ec3/regex-2022.3.2-cp37-cp37m-manylinux_2_17_x86_64.manylinux2014_x86_64.whl (749 kB)\n",
      "\u001b[K     |████████████████████████████████| 749 kB 38.1 MB/s eta 0:00:01\n",
      "\u001b[?25hCollecting sentencepiece\n",
      "  Downloading https://mirrors.aliyun.com/pypi/packages/ac/aa/1437691b0c7c83086ebb79ce2da16e00bef024f24fec2a5161c35476f499/sentencepiece-0.1.96-cp37-cp37m-manylinux_2_17_x86_64.manylinux2014_x86_64.whl (1.2 MB)\n",
      "\u001b[K     |████████████████████████████████| 1.2 MB 32.1 MB/s eta 0:00:01\n",
      "\u001b[?25hRequirement already satisfied: idna<3,>=2.5 in /root/miniconda3/envs/myconda/lib/python3.7/site-packages (from requests->transformers==2.10.0) (2.10)\n",
      "Requirement already satisfied: urllib3!=1.25.0,!=1.25.1,<1.26,>=1.21.1 in /root/miniconda3/envs/myconda/lib/python3.7/site-packages (from requests->transformers==2.10.0) (1.25.10)\n",
      "Requirement already satisfied: certifi>=2017.4.17 in /root/miniconda3/envs/myconda/lib/python3.7/site-packages (from requests->transformers==2.10.0) (2020.6.20)\n",
      "Requirement already satisfied: chardet<4,>=3.0.2 in /root/miniconda3/envs/myconda/lib/python3.7/site-packages (from requests->transformers==2.10.0) (3.0.4)\n",
      "Requirement already satisfied: six in /root/miniconda3/envs/myconda/lib/python3.7/site-packages (from sacremoses->transformers==2.10.0) (1.15.0)\n",
      "Collecting click\n",
      "  Downloading https://mirrors.aliyun.com/pypi/packages/4a/a8/0b2ced25639fb20cc1c9784de90a8c25f9504a7f18cd8b5397bd61696d7d/click-8.0.4-py3-none-any.whl (97 kB)\n",
      "\u001b[K     |████████████████████████████████| 97 kB 6.2 MB/s  eta 0:00:01\n",
      "\u001b[?25hRequirement already satisfied: joblib in /root/miniconda3/envs/myconda/lib/python3.7/site-packages (from sacremoses->transformers==2.10.0) (0.16.0)\n",
      "Requirement already satisfied: importlib-metadata; python_version < \"3.8\" in /root/miniconda3/envs/myconda/lib/python3.7/site-packages (from click->sacremoses->transformers==2.10.0) (2.0.0)\n",
      "Requirement already satisfied: zipp>=0.5 in /root/miniconda3/envs/myconda/lib/python3.7/site-packages (from importlib-metadata; python_version < \"3.8\"->click->sacremoses->transformers==2.10.0) (3.2.0)\n",
      "Installing collected packages: tokenizers, regex, click, sacremoses, filelock, sentencepiece, transformers\n",
      "Successfully installed click-8.0.4 filelock-3.6.0 regex-2022.3.2 sacremoses-0.0.47 sentencepiece-0.1.96 tokenizers-0.7.0 transformers-2.10.0\n",
      "Note: you may need to restart the kernel to use updated packages.\n"
     ]
    }
   ],
   "source": [
    "pip install transformers==2.10.0"
   ]
  },
  {
   "cell_type": "code",
   "execution_count": 3,
   "metadata": {},
   "outputs": [
    {
     "name": "stdout",
     "output_type": "stream",
     "text": [
      "Looking in indexes: https://mirrors.aliyun.com/pypi/simple/\n",
      "Collecting pytorch_crf==0.7.2\n",
      "  Using cached https://mirrors.aliyun.com/pypi/packages/96/7d/4c4688e26ea015fc118a0327e5726e6596836abce9182d3738be8ec2e32a/pytorch_crf-0.7.2-py3-none-any.whl (9.5 kB)\n",
      "Installing collected packages: pytorch-crf\n",
      "Successfully installed pytorch-crf-0.7.2\n",
      "Note: you may need to restart the kernel to use updated packages.\n"
     ]
    }
   ],
   "source": [
    "pip install pytorch_crf==0.7.2"
   ]
  },
  {
   "cell_type": "code",
   "execution_count": 4,
   "metadata": {},
   "outputs": [
    {
     "name": "stdout",
     "output_type": "stream",
     "text": [
      "Looking in indexes: https://mirrors.aliyun.com/pypi/simple/\n",
      "Collecting numpy==1.16.4\n",
      "  Using cached https://mirrors.aliyun.com/pypi/packages/fc/d1/45be1144b03b6b1e24f9a924f23f66b4ad030d834ad31fb9e5581bd328af/numpy-1.16.4-cp37-cp37m-manylinux1_x86_64.whl (17.3 MB)\n",
      "Installing collected packages: numpy\n",
      "  Attempting uninstall: numpy\n",
      "    Found existing installation: numpy 1.19.2\n",
      "    Uninstalling numpy-1.19.2:\n",
      "      Successfully uninstalled numpy-1.19.2\n",
      "Successfully installed numpy-1.16.4\n",
      "Note: you may need to restart the kernel to use updated packages.\n"
     ]
    }
   ],
   "source": [
    "pip install numpy==1.16.4"
   ]
  },
  {
   "cell_type": "code",
   "execution_count": 5,
   "metadata": {},
   "outputs": [
    {
     "name": "stdout",
     "output_type": "stream",
     "text": [
      "Looking in indexes: https://mirrors.aliyun.com/pypi/simple/\n",
      "\u001b[31mERROR: Could not find a version that satisfies the requirement torch==1.5.1+cu101 (from versions: 1.0.0, 1.0.1, 1.0.1.post2, 1.1.0, 1.2.0, 1.3.0, 1.3.1, 1.4.0, 1.5.0, 1.5.1, 1.6.0, 1.7.0, 1.7.1, 1.8.0, 1.8.1, 1.9.0, 1.9.1, 1.10.0, 1.10.1, 1.10.2)\u001b[0m\n",
      "\u001b[31mERROR: No matching distribution found for torch==1.5.1+cu101\u001b[0m\n",
      "Note: you may need to restart the kernel to use updated packages.\n"
     ]
    }
   ],
   "source": [
    "pip install torch==1.5.1+cu101"
   ]
  },
  {
   "cell_type": "code",
   "execution_count": 6,
   "metadata": {},
   "outputs": [
    {
     "name": "stdout",
     "output_type": "stream",
     "text": [
      "Looking in indexes: https://mirrors.aliyun.com/pypi/simple/\n",
      "Collecting tqdm==4.46.1\n",
      "  Downloading https://mirrors.aliyun.com/pypi/packages/f3/76/4697ce203a3d42b2ead61127b35e5fcc26bba9a35c03b32a2bd342a4c869/tqdm-4.46.1-py2.py3-none-any.whl (63 kB)\n",
      "\u001b[K     |████████████████████████████████| 63 kB 1.6 MB/s eta 0:00:011\n",
      "\u001b[?25hInstalling collected packages: tqdm\n",
      "  Attempting uninstall: tqdm\n",
      "    Found existing installation: tqdm 4.49.0\n",
      "    Uninstalling tqdm-4.49.0:\n",
      "      Successfully uninstalled tqdm-4.49.0\n",
      "Successfully installed tqdm-4.46.1\n",
      "Note: you may need to restart the kernel to use updated packages.\n"
     ]
    }
   ],
   "source": [
    "pip install tqdm==4.46.1"
   ]
  },
  {
   "cell_type": "code",
   "execution_count": 7,
   "metadata": {},
   "outputs": [
    {
     "name": "stdout",
     "output_type": "stream",
     "text": [
      "Looking in indexes: https://mirrors.aliyun.com/pypi/simple/\n",
      "Requirement already satisfied: scikit_learn==0.23.2 in /root/miniconda3/envs/myconda/lib/python3.7/site-packages (0.23.2)\n",
      "Requirement already satisfied: numpy>=1.13.3 in /root/miniconda3/envs/myconda/lib/python3.7/site-packages (from scikit_learn==0.23.2) (1.16.4)\n",
      "Requirement already satisfied: threadpoolctl>=2.0.0 in /root/miniconda3/envs/myconda/lib/python3.7/site-packages (from scikit_learn==0.23.2) (2.1.0)\n",
      "Requirement already satisfied: joblib>=0.11 in /root/miniconda3/envs/myconda/lib/python3.7/site-packages (from scikit_learn==0.23.2) (0.16.0)\n",
      "Requirement already satisfied: scipy>=0.19.1 in /root/miniconda3/envs/myconda/lib/python3.7/site-packages (from scikit_learn==0.23.2) (1.5.2)\n",
      "Note: you may need to restart the kernel to use updated packages.\n"
     ]
    }
   ],
   "source": [
    "pip install scikit_learn==0.23.2"
   ]
  },
  {
   "cell_type": "code",
   "execution_count": 8,
   "metadata": {},
   "outputs": [
    {
     "name": "stdout",
     "output_type": "stream",
     "text": [
      "Looking in indexes: https://mirrors.aliyun.com/pypi/simple/\n",
      "Collecting torchcrf==1.1.0\n",
      "  Downloading https://mirrors.aliyun.com/pypi/packages/0e/95/3490a6c67d543aca9af21a7a13197750e18e975a215fa4b6f5411902908d/TorchCRF-1.1.0-py3-none-any.whl (5.2 kB)\n",
      "Requirement already satisfied: torch>=1.0.0 in /root/miniconda3/envs/myconda/lib/python3.7/site-packages (from torchcrf==1.1.0) (1.6.0)\n",
      "Requirement already satisfied: numpy in /root/miniconda3/envs/myconda/lib/python3.7/site-packages (from torchcrf==1.1.0) (1.16.4)\n",
      "Requirement already satisfied: future in /root/miniconda3/envs/myconda/lib/python3.7/site-packages (from torch>=1.0.0->torchcrf==1.1.0) (0.18.2)\n",
      "Installing collected packages: torchcrf\n",
      "Successfully installed torchcrf-1.1.0\n",
      "Note: you may need to restart the kernel to use updated packages.\n"
     ]
    }
   ],
   "source": [
    "pip install torchcrf==1.1.0"
   ]
  },
  {
   "cell_type": "code",
   "execution_count": null,
   "metadata": {},
   "outputs": [],
   "source": []
  }
 ],
 "metadata": {
  "kernelspec": {
   "display_name": "myconda",
   "language": "python",
   "name": "myconda"
  },
  "language_info": {
   "codemirror_mode": {
    "name": "ipython",
    "version": 3
   },
   "file_extension": ".py",
   "mimetype": "text/x-python",
   "name": "python",
   "nbconvert_exporter": "python",
   "pygments_lexer": "ipython3",
   "version": "3.7.9"
  }
 },
 "nbformat": 4,
 "nbformat_minor": 4
}
